{
 "cells": [
  {
   "cell_type": "markdown",
   "metadata": {},
   "source": [
    "# <b> Sistem Rekomendasi Musik menggunakan TF-IDF dan Cosine Similarity\n",
    "\n",
    "###  - Created by: Aziz F. Fauzi"
   ]
  },
  {
   "cell_type": "markdown",
   "metadata": {},
   "source": [
    "## Import Library"
   ]
  },
  {
   "cell_type": "code",
   "execution_count": 1,
   "metadata": {},
   "outputs": [],
   "source": [
    "import numpy as np\n",
    "import pandas as pd\n",
    "from typing import List, Dict\n",
    "from sklearn.feature_extraction.text import TfidfVectorizer\n",
    "from sklearn.metrics.pairwise import cosine_similarity\n",
    "import matplotlib.pyplot as plt"
   ]
  },
  {
   "cell_type": "markdown",
   "metadata": {},
   "source": [
    "## Data Understanding"
   ]
  },
  {
   "cell_type": "code",
   "execution_count": 2,
   "metadata": {},
   "outputs": [
    {
     "data": {
      "text/html": [
       "<div>\n",
       "<style scoped>\n",
       "    .dataframe tbody tr th:only-of-type {\n",
       "        vertical-align: middle;\n",
       "    }\n",
       "\n",
       "    .dataframe tbody tr th {\n",
       "        vertical-align: top;\n",
       "    }\n",
       "\n",
       "    .dataframe thead th {\n",
       "        text-align: right;\n",
       "    }\n",
       "</style>\n",
       "<table border=\"1\" class=\"dataframe\">\n",
       "  <thead>\n",
       "    <tr style=\"text-align: right;\">\n",
       "      <th></th>\n",
       "      <th>artist</th>\n",
       "      <th>song</th>\n",
       "      <th>link</th>\n",
       "      <th>text</th>\n",
       "    </tr>\n",
       "  </thead>\n",
       "  <tbody>\n",
       "    <tr>\n",
       "      <th>30348</th>\n",
       "      <td>Doors</td>\n",
       "      <td>My Eyes Have Seen You</td>\n",
       "      <td>/d/doors/my+eyes+have+seen+you_20042732.html</td>\n",
       "      <td>My eyes have seen you  \\nMy eyes have seen you...</td>\n",
       "    </tr>\n",
       "    <tr>\n",
       "      <th>4044</th>\n",
       "      <td>Def Leppard</td>\n",
       "      <td>Pour Some Sugar On Me</td>\n",
       "      <td>/d/def+leppard/pour+some+sugar+on+me_20038917....</td>\n",
       "      <td>Hey, hey, hey  \\n  \\nLove is like a bomb baby ...</td>\n",
       "    </tr>\n",
       "    <tr>\n",
       "      <th>30820</th>\n",
       "      <td>Eddie Cochran</td>\n",
       "      <td>Slow Down</td>\n",
       "      <td>/e/eddie+cochran/slow+down_20773858.html</td>\n",
       "      <td>Well you're a fast movin' woman, I'm a slow mo...</td>\n",
       "    </tr>\n",
       "    <tr>\n",
       "      <th>23565</th>\n",
       "      <td>Alison Krauss</td>\n",
       "      <td>Crazy Faith</td>\n",
       "      <td>/a/alison+krauss/crazy+faith_20521761.html</td>\n",
       "      <td>I lit my love and watched it burn:  \\nAsking n...</td>\n",
       "    </tr>\n",
       "    <tr>\n",
       "      <th>46781</th>\n",
       "      <td>Olivia Newton-John</td>\n",
       "      <td>Talk To Me</td>\n",
       "      <td>/o/olivia+newton+john/talk+to+me_20103275.html</td>\n",
       "      <td>(Olivia Newton-John)  \\nWhen you're having tho...</td>\n",
       "    </tr>\n",
       "    <tr>\n",
       "      <th>40272</th>\n",
       "      <td>Kim Wilde</td>\n",
       "      <td>Songs About Love</td>\n",
       "      <td>/k/kim+wilde/songs+about+love_20078525.html</td>\n",
       "      <td>Written by kim wilde  \\n  \\nWell they'll tease...</td>\n",
       "    </tr>\n",
       "    <tr>\n",
       "      <th>14239</th>\n",
       "      <td>Nirvana</td>\n",
       "      <td>Scoff</td>\n",
       "      <td>/n/nirvana/scoff_20100961.html</td>\n",
       "      <td>In my eyes, I'm not lazy  \\nIn my face, it's n...</td>\n",
       "    </tr>\n",
       "    <tr>\n",
       "      <th>17294</th>\n",
       "      <td>Red Hot Chili Peppers</td>\n",
       "      <td>Fight Like A Brave</td>\n",
       "      <td>/r/red+hot+chili+peppers/fight+like+a+brave_20...</td>\n",
       "      <td>All you slingers and fiends  \\nHide behind you...</td>\n",
       "    </tr>\n",
       "    <tr>\n",
       "      <th>24131</th>\n",
       "      <td>Andy Williams</td>\n",
       "      <td>Music To Watch Girls By</td>\n",
       "      <td>/a/andy+williams/music+to+watch+girls+by_20007...</td>\n",
       "      <td>The boys watch the girls while the girls watch...</td>\n",
       "    </tr>\n",
       "    <tr>\n",
       "      <th>43113</th>\n",
       "      <td>Maroon 5</td>\n",
       "      <td>Give A Little More</td>\n",
       "      <td>/m/maroon+5/give+a+little+more_20885854.html</td>\n",
       "      <td>Now you've been bad, and it goes on and on and...</td>\n",
       "    </tr>\n",
       "  </tbody>\n",
       "</table>\n",
       "</div>"
      ],
      "text/plain": [
       "                      artist                     song  \\\n",
       "30348                  Doors    My Eyes Have Seen You   \n",
       "4044             Def Leppard    Pour Some Sugar On Me   \n",
       "30820          Eddie Cochran                Slow Down   \n",
       "23565          Alison Krauss              Crazy Faith   \n",
       "46781     Olivia Newton-John               Talk To Me   \n",
       "40272              Kim Wilde         Songs About Love   \n",
       "14239                Nirvana                    Scoff   \n",
       "17294  Red Hot Chili Peppers       Fight Like A Brave   \n",
       "24131          Andy Williams  Music To Watch Girls By   \n",
       "43113               Maroon 5       Give A Little More   \n",
       "\n",
       "                                                    link  \\\n",
       "30348       /d/doors/my+eyes+have+seen+you_20042732.html   \n",
       "4044   /d/def+leppard/pour+some+sugar+on+me_20038917....   \n",
       "30820           /e/eddie+cochran/slow+down_20773858.html   \n",
       "23565         /a/alison+krauss/crazy+faith_20521761.html   \n",
       "46781     /o/olivia+newton+john/talk+to+me_20103275.html   \n",
       "40272        /k/kim+wilde/songs+about+love_20078525.html   \n",
       "14239                     /n/nirvana/scoff_20100961.html   \n",
       "17294  /r/red+hot+chili+peppers/fight+like+a+brave_20...   \n",
       "24131  /a/andy+williams/music+to+watch+girls+by_20007...   \n",
       "43113       /m/maroon+5/give+a+little+more_20885854.html   \n",
       "\n",
       "                                                    text  \n",
       "30348  My eyes have seen you  \\nMy eyes have seen you...  \n",
       "4044   Hey, hey, hey  \\n  \\nLove is like a bomb baby ...  \n",
       "30820  Well you're a fast movin' woman, I'm a slow mo...  \n",
       "23565  I lit my love and watched it burn:  \\nAsking n...  \n",
       "46781  (Olivia Newton-John)  \\nWhen you're having tho...  \n",
       "40272  Written by kim wilde  \\n  \\nWell they'll tease...  \n",
       "14239  In my eyes, I'm not lazy  \\nIn my face, it's n...  \n",
       "17294  All you slingers and fiends  \\nHide behind you...  \n",
       "24131  The boys watch the girls while the girls watch...  \n",
       "43113  Now you've been bad, and it goes on and on and...  "
      ]
     },
     "execution_count": 2,
     "metadata": {},
     "output_type": "execute_result"
    }
   ],
   "source": [
    "df = pd.read_csv('dataset/songdata.csv')\n",
    "df.sample(10)"
   ]
  },
  {
   "cell_type": "code",
   "execution_count": 3,
   "metadata": {},
   "outputs": [
    {
     "name": "stdout",
     "output_type": "stream",
     "text": [
      "(57650, 4)\n"
     ]
    }
   ],
   "source": [
    "# eda\n",
    "print(df.shape)"
   ]
  },
  {
   "cell_type": "code",
   "execution_count": 4,
   "metadata": {},
   "outputs": [
    {
     "name": "stdout",
     "output_type": "stream",
     "text": [
      "<class 'pandas.core.frame.DataFrame'>\n",
      "RangeIndex: 57650 entries, 0 to 57649\n",
      "Data columns (total 4 columns):\n",
      " #   Column  Non-Null Count  Dtype \n",
      "---  ------  --------------  ----- \n",
      " 0   artist  57650 non-null  object\n",
      " 1   song    57650 non-null  object\n",
      " 2   link    57650 non-null  object\n",
      " 3   text    57650 non-null  object\n",
      "dtypes: object(4)\n",
      "memory usage: 1.8+ MB\n"
     ]
    }
   ],
   "source": [
    "df.info()"
   ]
  },
  {
   "cell_type": "code",
   "execution_count": 6,
   "metadata": {},
   "outputs": [
    {
     "name": "stdout",
     "output_type": "stream",
     "text": [
      "Jumlah artist yang ada dalam dataset ini adalah 17566\n"
     ]
    }
   ],
   "source": [
    "# berapa banyak artist yang ada\n",
    "print(\"Jumlah artist yang ada dalam dataset ini adalah \" +  str(df['artist'].value_counts().unique().sum()))"
   ]
  },
  {
   "cell_type": "code",
   "execution_count": null,
   "metadata": {},
   "outputs": [
    {
     "name": "stdout",
     "output_type": "stream",
     "text": [
      "artist\n",
      "Donna Summer        191\n",
      "Gordon Lightfoot    189\n",
      "Bob Dylan           188\n",
      "George Strait       188\n",
      "Loretta Lynn        187\n",
      "Cher                187\n",
      "Alabama             187\n",
      "Reba Mcentire       187\n",
      "Chaka Khan          186\n",
      "Dean Martin         186\n",
      "Name: count, dtype: int64\n"
     ]
    },
    {
     "data": {
      "image/png": "[encoded data removed]",
      "text/plain": [
       "<Figure size 640x480 with 1 Axes>"
      ]
     },
     "metadata": {},
     "output_type": "display_data"
    }
   ],
   "source": [
    "# visualisasi artis dengan lagu terbanyak (top 10)\n",
    "print(df['artist'].value_counts().head(10))\n",
    "df['artist'].value_counts().head(10).plot(kind='bar')\n",
    "plt.show()\n"
   ]
  },
  {
   "cell_type": "code",
   "execution_count": null,
   "metadata": {},
   "outputs": [
    {
     "data": {
      "text/plain": [
       "count    57650.000000\n",
       "mean       219.486262\n",
       "std        108.814619\n",
       "min         37.000000\n",
       "25%        145.000000\n",
       "50%        196.000000\n",
       "75%        264.000000\n",
       "max        827.000000\n",
       "Name: text, dtype: float64"
      ]
     },
     "execution_count": 7,
     "metadata": {},
     "output_type": "execute_result"
    }
   ],
   "source": [
    "# jumlah kata dalam lirik\n",
    "jumlah_kata = df['text'].apply(lambda x: len(str(x).split()))\n",
    "jumlah_kata.describe()"
   ]
  },
  {
   "cell_type": "code",
   "execution_count": null,
   "metadata": {},
   "outputs": [
    {
     "name": "stdout",
     "output_type": "stream",
     "text": [
      "(131, 4)\n"
     ]
    }
   ],
   "source": [
    "# ada berapa lagu justin bieber\n",
    "print(df[df['artist'] == 'Justin Bieber'].shape)"
   ]
  },
  {
   "cell_type": "markdown",
   "metadata": {},
   "source": [
    "## Data Preparation"
   ]
  },
  {
   "cell_type": "code",
   "execution_count": null,
   "metadata": {},
   "outputs": [],
   "source": [
    "df = df.sample(n=20000, random_state=42).drop('link', axis=1).reset_index(drop=True)"
   ]
  },
  {
   "cell_type": "code",
   "execution_count": null,
   "metadata": {},
   "outputs": [],
   "source": [
    "# hapus \\n dalam lirik\n",
    "df['text'] = df['text'].str.replace(r'\\n', '')"
   ]
  },
  {
   "cell_type": "code",
   "execution_count": null,
   "metadata": {},
   "outputs": [],
   "source": [
    "# case folding\n",
    "df['text'] = df['text'].str.lower()"
   ]
  },
  {
   "cell_type": "code",
   "execution_count": null,
   "metadata": {},
   "outputs": [],
   "source": [
    "# stemming bahasa inggris\n",
    "from nltk.stem import PorterStemmer\n",
    "porter = PorterStemmer()\n",
    "df['text'] = df['text'].apply(lambda x: ' '.join([porter.stem(word) for word in x.split()]))"
   ]
  },
  {
   "cell_type": "code",
   "execution_count": null,
   "metadata": {},
   "outputs": [],
   "source": [
    "# stopword removal\n",
    "from nltk.corpus import stopwords\n",
    "stop = stopwords.words('english')\n",
    "df['text'] = df['text'].apply(lambda x: ' '.join([word for word in x.split() if word not in (stop)]))"
   ]
  },
  {
   "cell_type": "code",
   "execution_count": null,
   "metadata": {},
   "outputs": [
    {
     "data": {
      "text/html": [
       "<div>\n",
       "<style scoped>\n",
       "    .dataframe tbody tr th:only-of-type {\n",
       "        vertical-align: middle;\n",
       "    }\n",
       "\n",
       "    .dataframe tbody tr th {\n",
       "        vertical-align: top;\n",
       "    }\n",
       "\n",
       "    .dataframe thead th {\n",
       "        text-align: right;\n",
       "    }\n",
       "</style>\n",
       "<table border=\"1\" class=\"dataframe\">\n",
       "  <thead>\n",
       "    <tr style=\"text-align: right;\">\n",
       "      <th></th>\n",
       "      <th>artist</th>\n",
       "      <th>song</th>\n",
       "      <th>text</th>\n",
       "    </tr>\n",
       "  </thead>\n",
       "  <tbody>\n",
       "    <tr>\n",
       "      <th>0</th>\n",
       "      <td>Wishbone Ash</td>\n",
       "      <td>Right Or Wrong</td>\n",
       "      <td>like 'round lie make thing dark peopl say, tas...</td>\n",
       "    </tr>\n",
       "    <tr>\n",
       "      <th>1</th>\n",
       "      <td>Aerosmith</td>\n",
       "      <td>This Little Light Of Mine</td>\n",
       "      <td>thi littl light mine (light mine), i'm let shi...</td>\n",
       "    </tr>\n",
       "    <tr>\n",
       "      <th>2</th>\n",
       "      <td>Fall Out Boy</td>\n",
       "      <td>Dance, Dance</td>\n",
       "      <td>say she' good word i'm wors bare stutter joke ...</td>\n",
       "    </tr>\n",
       "    <tr>\n",
       "      <th>3</th>\n",
       "      <td>Janis Joplin</td>\n",
       "      <td>Easy Rider</td>\n",
       "      <td>hey mama, mama, come look sister, she' a-stand...</td>\n",
       "    </tr>\n",
       "    <tr>\n",
       "      <th>4</th>\n",
       "      <td>Moody Blues</td>\n",
       "      <td>Peak Hour</td>\n",
       "      <td>see window seems. never failing, like million ...</td>\n",
       "    </tr>\n",
       "    <tr>\n",
       "      <th>...</th>\n",
       "      <td>...</td>\n",
       "      <td>...</td>\n",
       "      <td>...</td>\n",
       "    </tr>\n",
       "    <tr>\n",
       "      <th>19995</th>\n",
       "      <td>Dusty Springfield</td>\n",
       "      <td>Nothing Has Been Proved</td>\n",
       "      <td>mandy' paper 'caus tri go spain she'll soon do...</td>\n",
       "    </tr>\n",
       "    <tr>\n",
       "      <th>19996</th>\n",
       "      <td>Radiohead</td>\n",
       "      <td>Full Stop</td>\n",
       "      <td>[intro] realli mess everyth realli mess everyt...</td>\n",
       "    </tr>\n",
       "    <tr>\n",
       "      <th>19997</th>\n",
       "      <td>Elton John</td>\n",
       "      <td>Elderberry Wine</td>\n",
       "      <td>there' fli window dog yard year sinc saw there...</td>\n",
       "    </tr>\n",
       "    <tr>\n",
       "      <th>19998</th>\n",
       "      <td>Young Jeezy</td>\n",
       "      <td>Over Here</td>\n",
       "      <td>get money here, pimpin' see ya boy look y'all ...</td>\n",
       "    </tr>\n",
       "    <tr>\n",
       "      <th>19999</th>\n",
       "      <td>Tom T. Hall</td>\n",
       "      <td>Loneliest Girl In The Crowd</td>\n",
       "      <td>she' got loneliest girl crowd look sad music p...</td>\n",
       "    </tr>\n",
       "  </tbody>\n",
       "</table>\n",
       "<p>20000 rows × 3 columns</p>\n",
       "</div>"
      ],
      "text/plain": [
       "                  artist                         song  \\\n",
       "0           Wishbone Ash               Right Or Wrong   \n",
       "1              Aerosmith    This Little Light Of Mine   \n",
       "2           Fall Out Boy                 Dance, Dance   \n",
       "3           Janis Joplin                   Easy Rider   \n",
       "4            Moody Blues                    Peak Hour   \n",
       "...                  ...                          ...   \n",
       "19995  Dusty Springfield      Nothing Has Been Proved   \n",
       "19996          Radiohead                    Full Stop   \n",
       "19997         Elton John              Elderberry Wine   \n",
       "19998        Young Jeezy                    Over Here   \n",
       "19999        Tom T. Hall  Loneliest Girl In The Crowd   \n",
       "\n",
       "                                                    text  \n",
       "0      like 'round lie make thing dark peopl say, tas...  \n",
       "1      thi littl light mine (light mine), i'm let shi...  \n",
       "2      say she' good word i'm wors bare stutter joke ...  \n",
       "3      hey mama, mama, come look sister, she' a-stand...  \n",
       "4      see window seems. never failing, like million ...  \n",
       "...                                                  ...  \n",
       "19995  mandy' paper 'caus tri go spain she'll soon do...  \n",
       "19996  [intro] realli mess everyth realli mess everyt...  \n",
       "19997  there' fli window dog yard year sinc saw there...  \n",
       "19998  get money here, pimpin' see ya boy look y'all ...  \n",
       "19999  she' got loneliest girl crowd look sad music p...  \n",
       "\n",
       "[20000 rows x 3 columns]"
      ]
     },
     "execution_count": 14,
     "metadata": {},
     "output_type": "execute_result"
    }
   ],
   "source": [
    "df"
   ]
  },
  {
   "cell_type": "markdown",
   "metadata": {},
   "source": [
    "## Modeling and Result\n"
   ]
  },
  {
   "cell_type": "code",
   "execution_count": null,
   "metadata": {},
   "outputs": [],
   "source": [
    "tfidf = TfidfVectorizer(analyzer='word')"
   ]
  },
  {
   "cell_type": "code",
   "execution_count": null,
   "metadata": {},
   "outputs": [],
   "source": [
    "lyrics_matrix = tfidf.fit_transform(df['text'])"
   ]
  },
  {
   "cell_type": "code",
   "execution_count": null,
   "metadata": {},
   "outputs": [
    {
     "data": {
      "text/plain": [
       "<20000x42775 sparse matrix of type '<class 'numpy.float64'>'\n",
       "\twith 1286269 stored elements in Compressed Sparse Row format>"
      ]
     },
     "execution_count": 17,
     "metadata": {},
     "output_type": "execute_result"
    }
   ],
   "source": [
    "lyrics_matrix"
   ]
  },
  {
   "cell_type": "code",
   "execution_count": null,
   "metadata": {},
   "outputs": [],
   "source": [
    "cosine_similarities = cosine_similarity(lyrics_matrix) "
   ]
  },
  {
   "cell_type": "code",
   "execution_count": null,
   "metadata": {},
   "outputs": [
    {
     "data": {
      "text/plain": [
       "array([[1.00000000e+00, 0.00000000e+00, 5.46632393e-02, ...,\n",
       "        7.29863289e-02, 4.24603170e-02, 4.53296245e-02],\n",
       "       [0.00000000e+00, 1.00000000e+00, 1.99263417e-02, ...,\n",
       "        1.16548129e-02, 2.13798006e-02, 5.47969133e-04],\n",
       "       [5.46632393e-02, 1.99263417e-02, 1.00000000e+00, ...,\n",
       "        3.87830908e-02, 5.22299848e-02, 6.63036172e-02],\n",
       "       ...,\n",
       "       [7.29863289e-02, 1.16548129e-02, 3.87830908e-02, ...,\n",
       "        1.00000000e+00, 1.97144529e-02, 5.29825831e-03],\n",
       "       [4.24603170e-02, 2.13798006e-02, 5.22299848e-02, ...,\n",
       "        1.97144529e-02, 1.00000000e+00, 5.80749321e-02],\n",
       "       [4.53296245e-02, 5.47969133e-04, 6.63036172e-02, ...,\n",
       "        5.29825831e-03, 5.80749321e-02, 1.00000000e+00]])"
      ]
     },
     "execution_count": 19,
     "metadata": {},
     "output_type": "execute_result"
    }
   ],
   "source": [
    "cosine_similarities"
   ]
  },
  {
   "cell_type": "code",
   "execution_count": null,
   "metadata": {},
   "outputs": [],
   "source": [
    "similarities = {}\n",
    "\n",
    "for i in range(len(cosine_similarities)):\n",
    "    # Sekarang kita akan mengurutkan setiap elemen dalam cosine_similarities dan mendapatkan indeks lagu-lagu tersebut\n",
    "    similar_indices = cosine_similarities[i].argsort()[:-10:-1] \n",
    "    # Setelah itu, kita akan menyimpan dalam similarities setiap nama dari 10 lagu yang paling mirip\n",
    "    # Kecuali yang pertama yang merupakan lagu yang sama\n",
    "    similarities[df['song'].iloc[i]] = [(cosine_similarities[i][x], df['song'][x], df['artist'][x]) for x in similar_indices][1:]\n"
   ]
  },
  {
   "cell_type": "code",
   "execution_count": null,
   "metadata": {},
   "outputs": [],
   "source": [
    "similarities"
   ]
  },
  {
   "cell_type": "code",
   "execution_count": null,
   "metadata": {},
   "outputs": [],
   "source": [
    "class ContentBasedRecommender:\n",
    "    def __init__(self, matrix):\n",
    "        self.matrix_similar = matrix\n",
    "\n",
    "    # print top 5 lagu yang direkomendasikan\n",
    "    def _print_message(self, song, recom_song):\n",
    "        jml_item = len(recom_song)\n",
    "        \n",
    "        print(f\"Anda sedang memutar lagu \\\"{song}\\\"\")\n",
    "        print(f'{jml_item} rekomendasi lainnya yang mungkin anda sukai:')\n",
    "        for i in range(jml_item):\n",
    "            print(f\"No.{i+1}:\")\n",
    "            print(f\"\\\"{recom_song[i][1]}\\\" dari \\\"{recom_song[i][2]}\\\" => dengan {round(recom_song[i][0], 3)} similarity score\") \n",
    "            print(\"--------------------\")\n",
    "        \n",
    "    def recommend(self, target_song):\n",
    "        song = target_song\n",
    "        recom_song = self.matrix_similar[song][:5]\n",
    "        self._print_message(song=song, recom_song=recom_song)"
   ]
  },
  {
   "cell_type": "code",
   "execution_count": null,
   "metadata": {},
   "outputs": [],
   "source": [
    "recommedations = ContentBasedRecommender(similarities)"
   ]
  },
  {
   "cell_type": "code",
   "execution_count": null,
   "metadata": {},
   "outputs": [
    {
     "data": {
      "text/plain": [
       "<__main__.ContentBasedRecommender at 0x21db5331210>"
      ]
     },
     "execution_count": 24,
     "metadata": {},
     "output_type": "execute_result"
    }
   ],
   "source": [
    "recommedations"
   ]
  },
  {
   "cell_type": "code",
   "execution_count": null,
   "metadata": {},
   "outputs": [
    {
     "data": {
      "text/html": [
       "<div>\n",
       "<style scoped>\n",
       "    .dataframe tbody tr th:only-of-type {\n",
       "        vertical-align: middle;\n",
       "    }\n",
       "\n",
       "    .dataframe tbody tr th {\n",
       "        vertical-align: top;\n",
       "    }\n",
       "\n",
       "    .dataframe thead th {\n",
       "        text-align: right;\n",
       "    }\n",
       "</style>\n",
       "<table border=\"1\" class=\"dataframe\">\n",
       "  <thead>\n",
       "    <tr style=\"text-align: right;\">\n",
       "      <th></th>\n",
       "      <th>artist</th>\n",
       "      <th>song</th>\n",
       "      <th>text</th>\n",
       "    </tr>\n",
       "  </thead>\n",
       "  <tbody>\n",
       "    <tr>\n",
       "      <th>638</th>\n",
       "      <td>Justin Bieber</td>\n",
       "      <td>Heartbreaker</td>\n",
       "      <td>girl know feel (how realli feel) sinc away, oh...</td>\n",
       "    </tr>\n",
       "    <tr>\n",
       "      <th>834</th>\n",
       "      <td>Justin Bieber</td>\n",
       "      <td>Go The Distance</td>\n",
       "      <td>often dream far place hero' welcom would wait ...</td>\n",
       "    </tr>\n",
       "    <tr>\n",
       "      <th>1121</th>\n",
       "      <td>Justin Bieber</td>\n",
       "      <td>One Dance (Remix)</td>\n",
       "      <td>[intro: kyla] babi like style [vers 1: justin ...</td>\n",
       "    </tr>\n",
       "    <tr>\n",
       "      <th>1905</th>\n",
       "      <td>Justin Bieber</td>\n",
       "      <td>Never Say Never</td>\n",
       "      <td>never say never (never never never) see never ...</td>\n",
       "    </tr>\n",
       "    <tr>\n",
       "      <th>2304</th>\n",
       "      <td>Justin Bieber</td>\n",
       "      <td>Speechless</td>\n",
       "      <td>doe mean noth say, memmori contant thoguht won...</td>\n",
       "    </tr>\n",
       "    <tr>\n",
       "      <th>2446</th>\n",
       "      <td>Justin Bieber</td>\n",
       "      <td>Wait For A Minute</td>\n",
       "      <td>wait minut wait minute? are, take hand babe go...</td>\n",
       "    </tr>\n",
       "    <tr>\n",
       "      <th>3105</th>\n",
       "      <td>Justin Bieber</td>\n",
       "      <td>Sup</td>\n",
       "      <td>vers 1: i'm club, shake see face get drink, ho...</td>\n",
       "    </tr>\n",
       "    <tr>\n",
       "      <th>4073</th>\n",
       "      <td>Justin Bieber</td>\n",
       "      <td>All I Want For Christmas Is You</td>\n",
       "      <td>want lot christma one thing need care present ...</td>\n",
       "    </tr>\n",
       "    <tr>\n",
       "      <th>4386</th>\n",
       "      <td>Justin Bieber</td>\n",
       "      <td>Misstep</td>\n",
       "      <td>chase ilucion thi moon show shortcut town. thi...</td>\n",
       "    </tr>\n",
       "    <tr>\n",
       "      <th>4610</th>\n",
       "      <td>Justin Bieber</td>\n",
       "      <td>What Does She Want</td>\n",
       "      <td>whi doe even obsess life she' like \"i need you...</td>\n",
       "    </tr>\n",
       "    <tr>\n",
       "      <th>5060</th>\n",
       "      <td>Justin Bieber</td>\n",
       "      <td>PYD</td>\n",
       "      <td>[intro:] pyd pyd pyd i'mma put pyd pyd pyd i'm...</td>\n",
       "    </tr>\n",
       "    <tr>\n",
       "      <th>5206</th>\n",
       "      <td>Justin Bieber</td>\n",
       "      <td>One Life</td>\n",
       "      <td>girl honest me, know make thi work love know a...</td>\n",
       "    </tr>\n",
       "    <tr>\n",
       "      <th>5367</th>\n",
       "      <td>Justin Bieber</td>\n",
       "      <td>Believe</td>\n",
       "      <td>believe, believe, believ know got knew easi fa...</td>\n",
       "    </tr>\n",
       "    <tr>\n",
       "      <th>5741</th>\n",
       "      <td>Justin Bieber</td>\n",
       "      <td>Won't Stop</td>\n",
       "      <td>[sean kingston] see coming, yeah. tri bring do...</td>\n",
       "    </tr>\n",
       "    <tr>\n",
       "      <th>6183</th>\n",
       "      <td>Justin Bieber</td>\n",
       "      <td>Maria</td>\n",
       "      <td>say met tour keep knock door, leav me, leav al...</td>\n",
       "    </tr>\n",
       "    <tr>\n",
       "      <th>6263</th>\n",
       "      <td>Justin Bieber</td>\n",
       "      <td>Fa La La</td>\n",
       "      <td>thi time year could give give it, give it, giv...</td>\n",
       "    </tr>\n",
       "    <tr>\n",
       "      <th>6264</th>\n",
       "      <td>Justin Bieber</td>\n",
       "      <td>Just Like Them</td>\n",
       "      <td>know it' hard let' go there' someth differ eye...</td>\n",
       "    </tr>\n",
       "    <tr>\n",
       "      <th>6374</th>\n",
       "      <td>Justin Bieber</td>\n",
       "      <td>Speaking In Tongues</td>\n",
       "      <td>alright... aha... yea speak tongu yabadabadaba...</td>\n",
       "    </tr>\n",
       "    <tr>\n",
       "      <th>8564</th>\n",
       "      <td>Justin Bieber</td>\n",
       "      <td>Kiss and Tell</td>\n",
       "      <td>yeah j-j-j jb yeah, whoa, whoa no, noo, see gi...</td>\n",
       "    </tr>\n",
       "    <tr>\n",
       "      <th>8702</th>\n",
       "      <td>Justin Bieber</td>\n",
       "      <td>Gas Pedal Remix</td>\n",
       "      <td>h-h-h-h-holi shhh.... [hook:] slow down, grab ...</td>\n",
       "    </tr>\n",
       "    <tr>\n",
       "      <th>9180</th>\n",
       "      <td>Justin Bieber</td>\n",
       "      <td>Home This Christmas</td>\n",
       "      <td>look window wait headlight pull driveway it' r...</td>\n",
       "    </tr>\n",
       "    <tr>\n",
       "      <th>9195</th>\n",
       "      <td>Justin Bieber</td>\n",
       "      <td>Mark My Words</td>\n",
       "      <td>[chorus] mark words, that' mark words, give go...</td>\n",
       "    </tr>\n",
       "    <tr>\n",
       "      <th>9960</th>\n",
       "      <td>Justin Bieber</td>\n",
       "      <td>I Am Your Man</td>\n",
       "      <td>alway see girl walk past realli know i'm like ...</td>\n",
       "    </tr>\n",
       "    <tr>\n",
       "      <th>10198</th>\n",
       "      <td>Justin Bieber</td>\n",
       "      <td>Pray</td>\n",
       "      <td>oh oh oh oh oh oh oh oh oh pray can't sleep to...</td>\n",
       "    </tr>\n",
       "    <tr>\n",
       "      <th>10310</th>\n",
       "      <td>Justin Bieber</td>\n",
       "      <td>Baby</td>\n",
       "      <td>ooh whoa, ooh whoa, ooh whoa know love me, kno...</td>\n",
       "    </tr>\n",
       "    <tr>\n",
       "      <th>10621</th>\n",
       "      <td>Justin Bieber</td>\n",
       "      <td>Slave To The Rhythm</td>\n",
       "      <td>[verse:] danc sheet night danc hi need danc 't...</td>\n",
       "    </tr>\n",
       "    <tr>\n",
       "      <th>11734</th>\n",
       "      <td>Justin Bieber</td>\n",
       "      <td>Somebody To Love</td>\n",
       "      <td>oh oh i'd write symphony! i'd tell violin it' ...</td>\n",
       "    </tr>\n",
       "    <tr>\n",
       "      <th>12028</th>\n",
       "      <td>Justin Bieber</td>\n",
       "      <td>One Love</td>\n",
       "      <td>yeah, yeah, yeah, yeah let night stand way yea...</td>\n",
       "    </tr>\n",
       "    <tr>\n",
       "      <th>12096</th>\n",
       "      <td>Justin Bieber</td>\n",
       "      <td>Christmas Is Dead</td>\n",
       "      <td>see children around world cri tear deceit pare...</td>\n",
       "    </tr>\n",
       "    <tr>\n",
       "      <th>12733</th>\n",
       "      <td>Justin Bieber</td>\n",
       "      <td>Ladies Love Me</td>\n",
       "      <td>ladi love i'm cool j [chri brown] bad, i'm sor...</td>\n",
       "    </tr>\n",
       "    <tr>\n",
       "      <th>12821</th>\n",
       "      <td>Justin Bieber</td>\n",
       "      <td>She Don't Like The Lights</td>\n",
       "      <td>like flash, wanna keep us dark like fame, babi...</td>\n",
       "    </tr>\n",
       "    <tr>\n",
       "      <th>13710</th>\n",
       "      <td>Justin Bieber</td>\n",
       "      <td>Up</td>\n",
       "      <td>it' big big world it' easi get lost you'v alwa...</td>\n",
       "    </tr>\n",
       "    <tr>\n",
       "      <th>14008</th>\n",
       "      <td>Justin Bieber</td>\n",
       "      <td>Who Shot Ya</td>\n",
       "      <td>run everi tryna find goin tryin i'm lost like ...</td>\n",
       "    </tr>\n",
       "    <tr>\n",
       "      <th>15610</th>\n",
       "      <td>Justin Bieber</td>\n",
       "      <td>Looking For You</td>\n",
       "      <td>[intro:] takeoff- guala! bieber - what' migos?...</td>\n",
       "    </tr>\n",
       "    <tr>\n",
       "      <th>15831</th>\n",
       "      <td>Justin Bieber</td>\n",
       "      <td>Never Let You Go</td>\n",
       "      <td>ooh no, ooh no, ooh say hate ha sent let loos ...</td>\n",
       "    </tr>\n",
       "    <tr>\n",
       "      <th>16244</th>\n",
       "      <td>Justin Bieber</td>\n",
       "      <td>Baby Lady</td>\n",
       "      <td>put outfit gap like that. one match jacket cap...</td>\n",
       "    </tr>\n",
       "    <tr>\n",
       "      <th>16830</th>\n",
       "      <td>Justin Bieber</td>\n",
       "      <td>Runaway Love</td>\n",
       "      <td>see babi hit road she' going, that' nobodi kno...</td>\n",
       "    </tr>\n",
       "    <tr>\n",
       "      <th>16917</th>\n",
       "      <td>Justin Bieber</td>\n",
       "      <td>Cry Me A Heartless Swag On The River One Time</td>\n",
       "      <td>could heartless? oh could heartless? sun earth...</td>\n",
       "    </tr>\n",
       "    <tr>\n",
       "      <th>17702</th>\n",
       "      <td>Justin Bieber</td>\n",
       "      <td>Yellow Raincoat</td>\n",
       "      <td>guess i'll put raincoat, yellow raincoat baby,...</td>\n",
       "    </tr>\n",
       "    <tr>\n",
       "      <th>17706</th>\n",
       "      <td>Justin Bieber</td>\n",
       "      <td>Flatline</td>\n",
       "      <td>flatlin flatlin flatlin flatlin late you'v bus...</td>\n",
       "    </tr>\n",
       "    <tr>\n",
       "      <th>17839</th>\n",
       "      <td>Justin Bieber</td>\n",
       "      <td>A Very Bieber Christmas</td>\n",
       "      <td>4th day christma justin bieber gave 4 concert ...</td>\n",
       "    </tr>\n",
       "    <tr>\n",
       "      <th>17844</th>\n",
       "      <td>Justin Bieber</td>\n",
       "      <td>Stay With Me Forever</td>\n",
       "      <td>[vers 1] said girl, wanna me? could fantasi to...</td>\n",
       "    </tr>\n",
       "    <tr>\n",
       "      <th>17924</th>\n",
       "      <td>Justin Bieber</td>\n",
       "      <td>Where Are You Now</td>\n",
       "      <td>need whi take hand wanna close help lift groun...</td>\n",
       "    </tr>\n",
       "    <tr>\n",
       "      <th>17978</th>\n",
       "      <td>Justin Bieber</td>\n",
       "      <td>Set A Place At Your Table</td>\n",
       "      <td>thing seem strang thi morn pack bag school smi...</td>\n",
       "    </tr>\n",
       "    <tr>\n",
       "      <th>19680</th>\n",
       "      <td>Justin Bieber</td>\n",
       "      <td>One Less Lonely Girl</td>\n",
       "      <td>alright, let' go there' gonna one less lone gi...</td>\n",
       "    </tr>\n",
       "  </tbody>\n",
       "</table>\n",
       "</div>"
      ],
      "text/plain": [
       "              artist                                           song  \\\n",
       "638    Justin Bieber                                   Heartbreaker   \n",
       "834    Justin Bieber                                Go The Distance   \n",
       "1121   Justin Bieber                              One Dance (Remix)   \n",
       "1905   Justin Bieber                                Never Say Never   \n",
       "2304   Justin Bieber                                     Speechless   \n",
       "2446   Justin Bieber                              Wait For A Minute   \n",
       "3105   Justin Bieber                                            Sup   \n",
       "4073   Justin Bieber                All I Want For Christmas Is You   \n",
       "4386   Justin Bieber                                        Misstep   \n",
       "4610   Justin Bieber                             What Does She Want   \n",
       "5060   Justin Bieber                                            PYD   \n",
       "5206   Justin Bieber                                       One Life   \n",
       "5367   Justin Bieber                                        Believe   \n",
       "5741   Justin Bieber                                     Won't Stop   \n",
       "6183   Justin Bieber                                          Maria   \n",
       "6263   Justin Bieber                                       Fa La La   \n",
       "6264   Justin Bieber                                 Just Like Them   \n",
       "6374   Justin Bieber                            Speaking In Tongues   \n",
       "8564   Justin Bieber                                  Kiss and Tell   \n",
       "8702   Justin Bieber                                Gas Pedal Remix   \n",
       "9180   Justin Bieber                            Home This Christmas   \n",
       "9195   Justin Bieber                                  Mark My Words   \n",
       "9960   Justin Bieber                                  I Am Your Man   \n",
       "10198  Justin Bieber                                           Pray   \n",
       "10310  Justin Bieber                                           Baby   \n",
       "10621  Justin Bieber                            Slave To The Rhythm   \n",
       "11734  Justin Bieber                               Somebody To Love   \n",
       "12028  Justin Bieber                                       One Love   \n",
       "12096  Justin Bieber                              Christmas Is Dead   \n",
       "12733  Justin Bieber                                 Ladies Love Me   \n",
       "12821  Justin Bieber                      She Don't Like The Lights   \n",
       "13710  Justin Bieber                                             Up   \n",
       "14008  Justin Bieber                                    Who Shot Ya   \n",
       "15610  Justin Bieber                                Looking For You   \n",
       "15831  Justin Bieber                               Never Let You Go   \n",
       "16244  Justin Bieber                                      Baby Lady   \n",
       "16830  Justin Bieber                                   Runaway Love   \n",
       "16917  Justin Bieber  Cry Me A Heartless Swag On The River One Time   \n",
       "17702  Justin Bieber                                Yellow Raincoat   \n",
       "17706  Justin Bieber                                       Flatline   \n",
       "17839  Justin Bieber                        A Very Bieber Christmas   \n",
       "17844  Justin Bieber                           Stay With Me Forever   \n",
       "17924  Justin Bieber                              Where Are You Now   \n",
       "17978  Justin Bieber                      Set A Place At Your Table   \n",
       "19680  Justin Bieber                           One Less Lonely Girl   \n",
       "\n",
       "                                                    text  \n",
       "638    girl know feel (how realli feel) sinc away, oh...  \n",
       "834    often dream far place hero' welcom would wait ...  \n",
       "1121   [intro: kyla] babi like style [vers 1: justin ...  \n",
       "1905   never say never (never never never) see never ...  \n",
       "2304   doe mean noth say, memmori contant thoguht won...  \n",
       "2446   wait minut wait minute? are, take hand babe go...  \n",
       "3105   vers 1: i'm club, shake see face get drink, ho...  \n",
       "4073   want lot christma one thing need care present ...  \n",
       "4386   chase ilucion thi moon show shortcut town. thi...  \n",
       "4610   whi doe even obsess life she' like \"i need you...  \n",
       "5060   [intro:] pyd pyd pyd i'mma put pyd pyd pyd i'm...  \n",
       "5206   girl honest me, know make thi work love know a...  \n",
       "5367   believe, believe, believ know got knew easi fa...  \n",
       "5741   [sean kingston] see coming, yeah. tri bring do...  \n",
       "6183   say met tour keep knock door, leav me, leav al...  \n",
       "6263   thi time year could give give it, give it, giv...  \n",
       "6264   know it' hard let' go there' someth differ eye...  \n",
       "6374   alright... aha... yea speak tongu yabadabadaba...  \n",
       "8564   yeah j-j-j jb yeah, whoa, whoa no, noo, see gi...  \n",
       "8702   h-h-h-h-holi shhh.... [hook:] slow down, grab ...  \n",
       "9180   look window wait headlight pull driveway it' r...  \n",
       "9195   [chorus] mark words, that' mark words, give go...  \n",
       "9960   alway see girl walk past realli know i'm like ...  \n",
       "10198  oh oh oh oh oh oh oh oh oh pray can't sleep to...  \n",
       "10310  ooh whoa, ooh whoa, ooh whoa know love me, kno...  \n",
       "10621  [verse:] danc sheet night danc hi need danc 't...  \n",
       "11734  oh oh i'd write symphony! i'd tell violin it' ...  \n",
       "12028  yeah, yeah, yeah, yeah let night stand way yea...  \n",
       "12096  see children around world cri tear deceit pare...  \n",
       "12733  ladi love i'm cool j [chri brown] bad, i'm sor...  \n",
       "12821  like flash, wanna keep us dark like fame, babi...  \n",
       "13710  it' big big world it' easi get lost you'v alwa...  \n",
       "14008  run everi tryna find goin tryin i'm lost like ...  \n",
       "15610  [intro:] takeoff- guala! bieber - what' migos?...  \n",
       "15831  ooh no, ooh no, ooh say hate ha sent let loos ...  \n",
       "16244  put outfit gap like that. one match jacket cap...  \n",
       "16830  see babi hit road she' going, that' nobodi kno...  \n",
       "16917  could heartless? oh could heartless? sun earth...  \n",
       "17702  guess i'll put raincoat, yellow raincoat baby,...  \n",
       "17706  flatlin flatlin flatlin flatlin late you'v bus...  \n",
       "17839  4th day christma justin bieber gave 4 concert ...  \n",
       "17844  [vers 1] said girl, wanna me? could fantasi to...  \n",
       "17924  need whi take hand wanna close help lift groun...  \n",
       "17978  thing seem strang thi morn pack bag school smi...  \n",
       "19680  alright, let' go there' gonna one less lone gi...  "
      ]
     },
     "execution_count": 25,
     "metadata": {},
     "output_type": "execute_result"
    }
   ],
   "source": [
    "df[df['artist'] == \"Justin Bieber\"]"
   ]
  },
  {
   "cell_type": "code",
   "execution_count": null,
   "metadata": {},
   "outputs": [
    {
     "name": "stdout",
     "output_type": "stream",
     "text": [
      "Anda sedang memutar lagu \"Christmas Is Dead\"\n",
      "5 rekomendasi lainnya yang mungkin anda sukai:\n",
      "No.1:\n",
      "\"Please Come Home For Christmas\" dari \"Harry Connick, Jr.\" => dengan 0.378 similarity score\n",
      "--------------------\n",
      "No.2:\n",
      "\"Three Ships\" dari \"Cyndi Lauper\" => dengan 0.371 similarity score\n",
      "--------------------\n",
      "No.3:\n",
      "\"Do They Know It's Christmas\" dari \"Glee\" => dengan 0.37 similarity score\n",
      "--------------------\n",
      "No.4:\n",
      "\"I Believe In Christmas\" dari \"Christmas Songs\" => dengan 0.364 similarity score\n",
      "--------------------\n",
      "No.5:\n",
      "\"All I Want For Christmas Is You\" dari \"Demi Lovato\" => dengan 0.364 similarity score\n",
      "--------------------\n"
     ]
    }
   ],
   "source": [
    "recommedations.recommend(\"Christmas Is Dead\")"
   ]
  }
 ],
 "metadata": {
  "kernelspec": {
   "display_name": "Python 3",
   "language": "python",
   "name": "python3"
  },
  "language_info": {
   "codemirror_mode": {
    "name": "ipython",
    "version": 3
   },
   "file_extension": ".py",
   "mimetype": "text/x-python",
   "name": "python",
   "nbconvert_exporter": "python",
   "pygments_lexer": "ipython3",
   "version": "3.10.5"
  }
 },
 "nbformat": 4,
 "nbformat_minor": 2
}
